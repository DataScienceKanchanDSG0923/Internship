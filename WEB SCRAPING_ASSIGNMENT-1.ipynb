{
 "cells": [
  {
   "cell_type": "markdown",
   "id": "46c9c456",
   "metadata": {},
   "source": [
    "Write a python program to display all the header tags from wikipedia.org."
   ]
  },
  {
   "cell_type": "code",
   "execution_count": 1,
   "id": "094220e5",
   "metadata": {},
   "outputs": [
    {
     "name": "stdout",
     "output_type": "stream",
     "text": [
      "Requirement already satisfied: bs4 in c:\\users\\abc\\anaconda3\\lib\\site-packages (0.0.2)\n",
      "Requirement already satisfied: beautifulsoup4 in c:\\users\\abc\\anaconda3\\lib\\site-packages (from bs4) (4.12.2)\n",
      "Requirement already satisfied: soupsieve>1.2 in c:\\users\\abc\\anaconda3\\lib\\site-packages (from beautifulsoup4->bs4) (2.4)\n",
      "Requirement already satisfied: requests in c:\\users\\abc\\anaconda3\\lib\\site-packages (2.31.0)\n",
      "Requirement already satisfied: charset-normalizer<4,>=2 in c:\\users\\abc\\anaconda3\\lib\\site-packages (from requests) (2.0.4)\n",
      "Requirement already satisfied: idna<4,>=2.5 in c:\\users\\abc\\anaconda3\\lib\\site-packages (from requests) (3.4)\n",
      "Requirement already satisfied: urllib3<3,>=1.21.1 in c:\\users\\abc\\anaconda3\\lib\\site-packages (from requests) (1.26.16)\n",
      "Requirement already satisfied: certifi>=2017.4.17 in c:\\users\\abc\\anaconda3\\lib\\site-packages (from requests) (2023.7.22)\n"
     ]
    }
   ],
   "source": [
    "!pip install bs4\n",
    "!pip install requests"
   ]
  },
  {
   "cell_type": "code",
   "execution_count": 14,
   "id": "15536688",
   "metadata": {},
   "outputs": [
    {
     "name": "stdout",
     "output_type": "stream",
     "text": [
      "Wikipedia\n",
      "\n",
      "The Free Encyclopedia\n",
      "1,000,000+\n",
      "\n",
      "\n",
      "articles\n",
      "100,000+\n",
      "\n",
      "\n",
      "articles\n",
      "10,000+\n",
      "\n",
      "\n",
      "articles\n",
      "1,000+\n",
      "\n",
      "\n",
      "articles\n",
      "100+\n",
      "\n",
      "\n",
      "articles\n"
     ]
    }
   ],
   "source": [
    "import requests\n",
    "from bs4 import BeautifulSoup\n",
    "import regex as re\n",
    "\n",
    "def get_header_tags(url):\n",
    "    result = requests.get(url)\n",
    "    \n",
    "    if result.status_code == 200:\n",
    "        soup = BeautifulSoup(result.text, 'html.parser')\n",
    "        \n",
    "        headers = soup.find_all(re.compile(r'^h\\d$'))\n",
    "        \n",
    "        for header in headers:\n",
    "            print(header.text.strip())\n",
    "\n",
    "    else:\n",
    "        print(\"Failed to retrieve content from the URL.\")\n",
    "\n",
    "url = \"https://www.wikipedia.org/\"\n",
    "\n",
    "get_header_tags(url)"
   ]
  },
  {
   "cell_type": "markdown",
   "id": "35a4582c",
   "metadata": {},
   "source": [
    "Write a python program to display IMDB’s Top rated 100 movies’ data (i.e. name, rating, year\n",
    "of release) and make data frame."
   ]
  },
  {
   "cell_type": "code",
   "execution_count": 15,
   "id": "2aaa882b",
   "metadata": {},
   "outputs": [
    {
     "name": "stdout",
     "output_type": "stream",
     "text": [
      "                                  Title Rating  Year\n",
      "0              The Shawshank Redemption    9.3  1994\n",
      "1                         The Godfather    9.2  1972\n",
      "2                 The Godfather Part II      9  1974\n",
      "3                       The Dark Knight      9  2008\n",
      "4                          12 Angry Men      9  1957\n",
      "..                                  ...    ...   ...\n",
      "95                   North by Northwest    8.3  1959\n",
      "96                   A Clockwork Orange    8.3  1971\n",
      "97                               Snatch    8.2  2000\n",
      "98  Le fabuleux destin d'Amélie Poulain    8.3  2001\n",
      "99                              The Kid    8.2  1921\n",
      "\n",
      "[100 rows x 3 columns]\n"
     ]
    }
   ],
   "source": [
    "import requests\n",
    "from bs4 import BeautifulSoup\n",
    "import pandas as pd\n",
    "\n",
    "def get_top_100_movies():\n",
    "    url = \"https://www.imdb.com/list/ls091520106/\"\n",
    "    \n",
    "    response = requests.get(url)\n",
    "    \n",
    "    if response.status_code == 200:\n",
    "        soup = BeautifulSoup(response.content, 'html.parser')\n",
    "        \n",
    "        movies = []\n",
    "        for movie in soup.find_all(\"div\", class_=\"lister-item-content\"):\n",
    "            title = movie.find('a').text.strip()\n",
    "            rating = movie.find(\"span\", class_=\"ipl-rating-star__rating\").text.strip()\n",
    "            year = movie.find(\"span\", class_=\"lister-item-year\").text.strip()[1:-1]\n",
    "            movies.append({'Title': title, 'Rating': rating, 'Year': year})\n",
    "        \n",
    "        df = pd.DataFrame(movies)\n",
    "        return df\n",
    "    else:\n",
    "        print(\"Failed to fetch the webpage.\")\n",
    "        return None\n",
    "\n",
    "top_100_movies_df = get_top_100_movies()\n",
    "\n",
    "print(top_100_movies_df)"
   ]
  },
  {
   "cell_type": "markdown",
   "id": "400ed267",
   "metadata": {},
   "source": [
    "Write a python program to scrape mentioned details from dineout.co.in : i) Restaurant name\n",
    "ii) Cuisine iii) Location iv) Ratings v) Image URL."
   ]
  },
  {
   "cell_type": "code",
   "execution_count": 16,
   "id": "4932c526",
   "metadata": {},
   "outputs": [
    {
     "name": "stdout",
     "output_type": "stream",
     "text": [
      "{'Name': '7 Rivers Brewing Co.', 'Cuisine': '₹ 3,300 for 2 (approx) | Continental, North Indian, Finger Food, Beverages, Desserts', 'Location': 'TAJ MG Road Bengaluru,MG Road, Central Bangalore', 'Ratings': '4.3', 'Image URL': 'https://im1.dineout.co.in/images/uploads/restaurant/sharpen/8/z/l/p83938-163834635061a72e6eed907.jpg?tr=tr:n-medium'}\n",
      "{'Name': 'Spice Terrace', 'Cuisine': '₹ 3,900 for 2 (approx) | North Indian, Mughlai', 'Location': 'JW Marriott Hotel,Vittal Mallya Road, Central Bangalore', 'Ratings': '4.3', 'Image URL': 'https://im1.dineout.co.in/images/uploads/restaurant/sharpen/1/m/n/p13467-15646445765d4294e08b5cc.jpg?tr=tr:n-medium'}\n",
      "{'Name': 'Tushita', 'Cuisine': '₹ 2,000 for 2 (approx) | Continental, Asian, Fusion', 'Location': 'Ashok Nagar, Central Bangalore', 'Ratings': '4.3', 'Image URL': 'https://im1.dineout.co.in/images/uploads/restaurant/sharpen/1/g/b/p109413-1667192942635f586e5f727.jpg?tr=tr:n-medium'}\n",
      "{'Name': 'Jeeveshu Ahluwalia Live', 'Cuisine': '₹ 200 for 2 (approx) | Fast Food', 'Location': 'Ashok Nagar, Central Bangalore', 'Ratings': '4.3', 'Image URL': 'https://im1.dineout.co.in/images/uploads/restaurant/sharpen/9/d/s/p96881-1634640714616ea34a75650.jpg?tr=tr:n-medium'}\n",
      "{'Name': 'Bengaluru Baking Company', 'Cuisine': '₹ 4,000 for 2 (approx) | Continental, Beverages, Desserts', 'Location': 'JW Marriott Hotel,Vittal Mallya Road, Central Bangalore', 'Ratings': '4.3', 'Image URL': 'https://im1.dineout.co.in/images/uploads/restaurant/sharpen/1/i/s/p107097-165856477162dbb0a3ef278.jpg?tr=tr:n-medium'}\n",
      "{'Name': 'Provenance', 'Cuisine': '₹ 500 for 2 (approx) | Desserts, Fast Food', 'Location': 'UB City,Vittal Mallya Road, Central Bangalore', 'Ratings': '4.3', 'Image URL': 'https://im1.dineout.co.in/images/uploads/restaurant/sharpen/8/f/j/p83977-169225679064ddca164f3e8.jpg?tr=tr:n-medium'}\n",
      "{'Name': 'Alba', 'Cuisine': '₹ 4,000 for 2 (approx) | European, Italian', 'Location': 'JW Marriott Hotel,Vittal Mallya Road, Central Bangalore', 'Ratings': '4.3', 'Image URL': 'https://im1.dineout.co.in/images/uploads/restaurant/sharpen/1/b/m/p13460-1635482486617b7b76e9822.jpg?tr=tr:n-medium'}\n",
      "{'Name': 'JW Kitchen', 'Cuisine': '₹ 2,200 for 2 (approx) | North Indian, Continental', 'Location': 'JW Marriott Hotel,Vittal Mallya Road, Central Bangalore', 'Ratings': '4.3', 'Image URL': 'https://im1.dineout.co.in/images/uploads/restaurant/sharpen/1/z/g/p13437-15370039825b9cd1cec3540.jpg?tr=tr:n-medium'}\n",
      "{'Name': \"Sunny's\", 'Cuisine': '₹ 1,900 for 2 (approx) | European, Italian', 'Location': 'Lavelle Road, Central Bangalore', 'Ratings': '4.3', 'Image URL': 'https://im1.dineout.co.in/images/uploads/restaurant/sharpen/1/a/h/p14726-149081551858dc0a1e26008.jpg?tr=tr:n-medium'}\n",
      "{'Name': 'The Merak Brewhouse', 'Cuisine': '₹ 2,000 for 2 (approx) | Finger Food, Continental', 'Location': 'JW Marriott Hotel,Vittal Mallya Road, Central Bangalore', 'Ratings': '4.3', 'Image URL': 'https://im1.dineout.co.in/images/uploads/restaurant/sharpen/7/z/e/p73672-165933454062e76f8c2d7e8.jpg?tr=tr:n-medium'}\n",
      "{'Name': 'Salt - Indian Restaurant Bar & Grill', 'Cuisine': '₹ 1,200 for 2 (approx) | North Indian, Mughlai, South Indian', 'Location': 'Vittal Mallya Road, Central Bangalore', 'Ratings': '4.3', 'Image URL': 'https://im1.dineout.co.in/images/uploads/restaurant/sharpen/1/x/v/p106372-16624650346317340a481ca.jpg?tr=tr:n-medium'}\n",
      "{'Name': 'Toscano', 'Cuisine': '₹ 1,600 for 2 (approx) | Italian', 'Location': 'UB City, Central Bangalore', 'Ratings': '4.3', 'Image URL': 'https://im1.dineout.co.in/images/uploads/restaurant/sharpen/5/g/r/p5068-15650004835d480323e1f77.jpg?tr=tr:n-medium'}\n",
      "{'Name': 'Ozaa - Mediterranean Grills', 'Cuisine': '₹ 2,500 for 2 (approx) | Mediterranean', 'Location': 'Oakwood Premier Prestige Bangalore,Vittal Mallya Road, Central Bangalore', 'Ratings': '4.3', 'Image URL': 'https://im1.dineout.co.in/images/uploads/restaurant/sharpen/2/v/s/p21759-16082104195fdb57f351263.jpg?tr=tr:n-medium'}\n",
      "{'Name': 'Cafe Noir', 'Cuisine': '₹ 1,700 for 2 (approx) | Continental, French', 'Location': 'UB City,Vittal Mallya Road, Central Bangalore', 'Ratings': '4.3', 'Image URL': 'https://im1.dineout.co.in/images/uploads/restaurant/sharpen/4/b/e/p4471-16353141816178ea05c332c.jpg?tr=tr:n-medium'}\n",
      "{'Name': 'Sriracha', 'Cuisine': '₹ 1,600 for 2 (approx) | Asian', 'Location': 'UB City,Vittal Mallya Road, Central Bangalore', 'Ratings': '4.3', 'Image URL': 'https://im1.dineout.co.in/images/uploads/restaurant/sharpen/3/h/g/p35741-15517711065c7e25e2634b0.jpg?tr=tr:n-medium'}\n",
      "{'Name': 'The Village - Bangalore', 'Cuisine': '₹ 200 for 2 (approx) | Fast Food', 'Location': 'Ashok Nagar, Central Bangalore', 'Ratings': '4.3', 'Image URL': 'https://im1.dineout.co.in/images/uploads/restaurant/sharpen/9/t/w/p95427-16360187986183aa6e251ae.jpg?tr=tr:n-medium'}\n",
      "{'Name': 'Farzi Cafe', 'Cuisine': '₹ 1,600 for 2 (approx) | Modern Indian', 'Location': 'UB City,Vittal Mallya Road, Central Bangalore', 'Ratings': '4.3', 'Image URL': 'https://im1.dineout.co.in/images/uploads/restaurant/sharpen/2/b/i/p24670-147694699158086c2f45cba.jpg?tr=tr:n-medium'}\n",
      "{'Name': 'Loft 38', 'Cuisine': '₹ 2,200 for 2 (approx) | Italian, Asian, Thai, Continental, North Indian, Fast Food, Beverages', 'Location': 'Indiranagar, East Bangalore', 'Ratings': '4.3', 'Image URL': 'https://im1.dineout.co.in/images/uploads/restaurant/sharpen/6/f/d/p690-147602633357fa5fdd546d3.jpg?tr=tr:n-medium'}\n",
      "{'Name': 'Toscano', 'Cuisine': '₹ 1,600 for 2 (approx) | Italian', 'Location': 'Church Street, Central Bangalore', 'Ratings': '4.3', 'Image URL': 'https://im1.dineout.co.in/images/uploads/restaurant/sharpen/8/g/h/p860-16107933836002c1a7713ed.jpg?tr=tr:n-medium'}\n",
      "{'Name': 'Sanchez', 'Cuisine': '₹ 1,800 for 2 (approx) | Mexican', 'Location': 'UB City,Vittal Mallya Road, Central Bangalore', 'Ratings': '4.3', 'Image URL': 'https://im1.dineout.co.in/images/uploads/restaurant/sharpen/1/e/n/p1258-163620177661867530eb93f.jpg?tr=tr:n-medium'}\n",
      "{'Name': 'Uno Izakaya', 'Cuisine': '₹ 4,000 for 2 (approx) | Japanese', 'Location': 'JW Marriott Hotel,Vittal Mallya Road, Central Bangalore', 'Ratings': '4.3', 'Image URL': 'https://im1.dineout.co.in/images/uploads/restaurant/sharpen/1/q/a/p13462-16148627706040d9b274fe0.jpg?tr=tr:n-medium'}\n"
     ]
    }
   ],
   "source": [
    "import requests\n",
    "from bs4 import BeautifulSoup\n",
    "\n",
    "def scrape_dineout_details(url):\n",
    "    response = requests.get(url)\n",
    "    if response.status_code == 200:\n",
    "        soup = BeautifulSoup(response.content, 'html.parser')\n",
    "        \n",
    "        restaurants = []\n",
    "        for restaurant in soup.find_all('div', class_='restnt-main-wrap clearfix'):\n",
    "            name_tag = restaurant.find('a', class_='restnt-name')\n",
    "            name = name_tag.get_text().strip() if name_tag else \"Not Available\"\n",
    "            \n",
    "            location_tag = restaurant.find('div', class_='restnt-loc ellipsis')\n",
    "            location = location_tag.get_text().strip() if location_tag else \"Not Available\"\n",
    "            \n",
    "            ratings_tag = restaurant.find('div',class_='restnt-rating rating-4 hide')\n",
    "            ratings = ratings_tag.get_text().strip() if ratings_tag else \"Not Available\"\n",
    "            \n",
    "            cuisine_tag = restaurant.find('div', class_='detail-info')\n",
    "            cuisine = cuisine_tag.find('span', class_='double-line-ellipsis').get_text().strip() if cuisine_tag else \"Not Available\"\n",
    "   \n",
    "            image_tag = restaurant.find('div', class_='img cursor')\n",
    "            if image_tag and image_tag.find('img') and 'data-src' in image_tag.find('img').attrs:\n",
    "                image_url = image_tag.find('img')['data-src']\n",
    "            else:\n",
    "                image_url = \"Not Available\"\n",
    "            \n",
    "            \n",
    "            restaurants.append({'Name': name, 'Cuisine': cuisine, 'Location': location, 'Ratings': ratings, 'Image URL': image_url})\n",
    "        \n",
    "        \n",
    "        \n",
    "        return restaurants\n",
    "    else:\n",
    "        print(\"Failed to fetch the webpage.\")\n",
    "        return None\n",
    "\n",
    "url = \"https://www.dineout.co.in/bangalore-restaurants\"\n",
    "\n",
    "restaurant_details = scrape_dineout_details(url)\n",
    "\n",
    "for restaurant in restaurant_details:\n",
    "    print(restaurant)\n"
   ]
  },
  {
   "cell_type": "markdown",
   "id": "13b34e45",
   "metadata": {},
   "source": [
    "Write s python program to display list of respected former finance minister of India(i.e.\n",
    "Name , Term of office) from https://presidentofindia.nic.in/former-presidents and make\n",
    "data frame."
   ]
  },
  {
   "cell_type": "code",
   "execution_count": 17,
   "id": "58151ede",
   "metadata": {},
   "outputs": [
    {
     "name": "stdout",
     "output_type": "stream",
     "text": [
      "                            Name                   Tenure\n",
      "0           Shri Ram Nath Kovind  14th President of India\n",
      "1          Shri Pranab Mukherjee  13th President of India\n",
      "2   Smt Pratibha Devisingh Patil  12th President of India\n",
      "3         DR. A.P.J. Abdul Kalam  11th President of India\n",
      "4           Shri K. R. Narayanan  10th President of India\n",
      "5        Dr Shankar Dayal Sharma  9th  President of India\n",
      "6            Shri R Venkataraman   8th President of India\n",
      "7               Giani Zail Singh   7th President of India\n",
      "8      Shri Neelam Sanjiva Reddy   6th President of India\n",
      "9       Dr. Fakhruddin Ali Ahmed   5th President of India\n",
      "10  Shri Varahagiri Venkata Giri   4th President of India\n",
      "11              Dr. Zakir Husain   3rd President of India\n",
      "12  Dr. Sarvepalli Radhakrishnan   2nd President of India\n",
      "13           Dr. Rajendra Prasad   1st President of India\n"
     ]
    }
   ],
   "source": [
    "import requests\n",
    "from bs4 import BeautifulSoup\n",
    "import pandas as pd\n",
    "\n",
    "def persidents_details():\n",
    "    url = \"https://presidentofindia.nic.in/former-presidents\"\n",
    "    \n",
    "    response = requests.get(url)\n",
    "    \n",
    "    if response.status_code == 200:\n",
    "        soup = BeautifulSoup(response.content, 'html.parser')\n",
    "        \n",
    "        persidents = []\n",
    "        for persident in soup.find_all(\"div\", class_=\"desc-sec\"):\n",
    "            name = persident.find('h3').text.strip()\n",
    "            tenure = persident.find('h5').text.strip()\n",
    "            persidents.append({'Name': name, 'Tenure': tenure})\n",
    "        \n",
    "        df = pd.DataFrame(persidents)\n",
    "        return df\n",
    "    else:\n",
    "        print(\"Failed to fetch the webpage.\")\n",
    "        return None\n",
    "\n",
    "persidents_details_df = persidents_details()\n",
    "\n",
    "print(persidents_details_df)"
   ]
  },
  {
   "cell_type": "code",
   "execution_count": null,
   "id": "46de771e",
   "metadata": {},
   "outputs": [],
   "source": []
  }
 ],
 "metadata": {
  "kernelspec": {
   "display_name": "Python 3 (ipykernel)",
   "language": "python",
   "name": "python3"
  },
  "language_info": {
   "codemirror_mode": {
    "name": "ipython",
    "version": 3
   },
   "file_extension": ".py",
   "mimetype": "text/x-python",
   "name": "python",
   "nbconvert_exporter": "python",
   "pygments_lexer": "ipython3",
   "version": "3.11.4"
  }
 },
 "nbformat": 4,
 "nbformat_minor": 5
}
