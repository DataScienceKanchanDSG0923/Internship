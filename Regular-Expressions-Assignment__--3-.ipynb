{
 "cells": [
  {
   "cell_type": "markdown",
   "id": "5175e83a",
   "metadata": {},
   "source": [
    "Write a Python program to replace all occurrences of a space,comma or dot with a colon."
   ]
  },
  {
   "cell_type": "code",
   "execution_count": 1,
   "id": "d4052558",
   "metadata": {},
   "outputs": [],
   "source": [
    "import re\n",
    "\n",
    "def replce_with_colon(text):\n",
    "    pattern=r'[ ,.]'\n",
    "    replaced_text=re.sub(pattern,':',text)\n",
    "    return replaced_text\n",
    "        "
   ]
  },
  {
   "cell_type": "code",
   "execution_count": 2,
   "id": "bd5a4c1e",
   "metadata": {},
   "outputs": [],
   "source": [
    "sample_text='Python Exercises, PHP Exercises.'\n",
    "Expected_output=replce_with_colon(sample_text)"
   ]
  },
  {
   "cell_type": "code",
   "execution_count": 3,
   "id": "145727f2",
   "metadata": {},
   "outputs": [
    {
     "name": "stdout",
     "output_type": "stream",
     "text": [
      "Python:Exercises::PHP:Exercises:\n"
     ]
    }
   ],
   "source": [
    "print(Expected_output)"
   ]
  },
  {
   "cell_type": "markdown",
   "id": "e8be01f6",
   "metadata": {},
   "source": [
    "OR/another method"
   ]
  },
  {
   "cell_type": "code",
   "execution_count": 4,
   "id": "d8c8de51",
   "metadata": {},
   "outputs": [
    {
     "name": "stdout",
     "output_type": "stream",
     "text": [
      "Python:Exercises::PHP:exercises:\n"
     ]
    }
   ],
   "source": [
    "import re\n",
    "\n",
    "Sample_Text='Python Exercises, PHP exercises.'\n",
    "pattern=r'[ ,.]'\n",
    "replaceed_text=re.sub(pattern,':',Sample_Text)\n",
    "print(replaceed_text)"
   ]
  },
  {
   "cell_type": "markdown",
   "id": "03f3b991",
   "metadata": {},
   "source": [
    " Create a dataframe using the dictionary below and remove everything (commas (,), !, XXXX, ;, etc.) from the columns except words."
   ]
  },
  {
   "cell_type": "code",
   "execution_count": 22,
   "id": "129858ae",
   "metadata": {},
   "outputs": [
    {
     "name": "stdout",
     "output_type": "stream",
     "text": [
      "         SUMMARY\n",
      "0    hello world\n",
      "1     XXXXX test\n",
      "2  four five six\n"
     ]
    }
   ],
   "source": [
    "import pandas as pd\n",
    "import re\n",
    "\n",
    "data={'SUMMARY' : ['hello, world!', 'XXXXX test', '123four, five:; six...']}\n",
    "df=pd.DataFrame(data)\n",
    "def remove_non_word(text):\n",
    "    return re.sub(r'[^a-zA-Z\\s]+', '', text)\n",
    "df['SUMMARY']=df['SUMMARY'].apply(remove_non_word)\n",
    "print(df)"
   ]
  },
  {
   "cell_type": "markdown",
   "id": "559e0307",
   "metadata": {},
   "source": [
    "OR/Another Method"
   ]
  },
  {
   "cell_type": "code",
   "execution_count": 24,
   "id": "8c94b6b5",
   "metadata": {},
   "outputs": [
    {
     "name": "stdout",
     "output_type": "stream",
     "text": [
      "         SUMMARY\n",
      "0    hello world\n",
      "1     XXXXX test\n",
      "2  four five six\n"
     ]
    }
   ],
   "source": [
    "import pandas as pd\n",
    "import re\n",
    "\n",
    "data={'SUMMARY' : ['hello, world!', 'XXXXX test', '123four, five:; six...']}\n",
    "df=pd.DataFrame(data)\n",
    "df['SUMMARY']=df['SUMMARY'].apply(lambda x:re.sub(r'[^a-zA-Z\\s]+', '', x))\n",
    "print(df)"
   ]
  },
  {
   "cell_type": "markdown",
   "id": "ec2e77a6",
   "metadata": {},
   "source": [
    "Create a function in python to find all words that are at least 4 characters long in a string. The use of the re.compile() method is mandatory."
   ]
  },
  {
   "cell_type": "code",
   "execution_count": 25,
   "id": "34c705b5",
   "metadata": {},
   "outputs": [],
   "source": [
    "def find_words(text):\n",
    "    pattern=re.compile(r'\\b\\w{4,}\\b')\n",
    "    words=pattern.findall(text)\n",
    "    return words"
   ]
  },
  {
   "cell_type": "code",
   "execution_count": 26,
   "id": "c3037dbc",
   "metadata": {},
   "outputs": [],
   "source": [
    "sample=\"Read the migration plan to Notebook 7 to learn about the new features and the actions to take if you are using extensions\"\n",
    "result=find_words(sample)"
   ]
  },
  {
   "cell_type": "code",
   "execution_count": 27,
   "id": "db1e82c9",
   "metadata": {},
   "outputs": [
    {
     "name": "stdout",
     "output_type": "stream",
     "text": [
      "['Read', 'migration', 'plan', 'Notebook', 'learn', 'about', 'features', 'actions', 'take', 'using', 'extensions']\n"
     ]
    }
   ],
   "source": [
    "print(result)"
   ]
  },
  {
   "cell_type": "markdown",
   "id": "9d459372",
   "metadata": {},
   "source": [
    "Create a function in python to find all three, four, and five character words in a string. The use of the re.compile() method is mandatory."
   ]
  },
  {
   "cell_type": "code",
   "execution_count": 28,
   "id": "170501af",
   "metadata": {},
   "outputs": [
    {
     "name": "stdout",
     "output_type": "stream",
     "text": [
      "['Read', 'the', 'plan', 'learn', 'about', 'the', 'new', 'and', 'the', 'take', 'you', 'are', 'using']\n"
     ]
    }
   ],
   "source": [
    "def find_words(text):\n",
    "    pattern=re.compile(r'\\b\\w{3,5}\\b')\n",
    "    words=pattern.findall(text)\n",
    "    return words\n",
    "sample=\"Read the migration plan to Notebook 7 to learn about the new features and the actions to take if you are using extensions\"\n",
    "result=find_words(sample)\n",
    "print(result)"
   ]
  },
  {
   "cell_type": "markdown",
   "id": "5bae4dbb",
   "metadata": {},
   "source": [
    "Create a function in Python to remove the parenthesis in a list of strings. The use of the re.compile() method is mandatory."
   ]
  },
  {
   "cell_type": "code",
   "execution_count": 63,
   "id": "22c992ed",
   "metadata": {},
   "outputs": [],
   "source": [
    "def remove_parenthesis(strings):\n",
    "    pattern=re.compile(r'\\(|\\)')\n",
    "    removed=[pattern.sub('',s) for s in strings]\n",
    "    for x in removed:\n",
    "        print(x) \n",
    "    return removed"
   ]
  },
  {
   "cell_type": "code",
   "execution_count": 64,
   "id": "8fed5ae4",
   "metadata": {},
   "outputs": [
    {
     "name": "stdout",
     "output_type": "stream",
     "text": [
      "example .com\n",
      "hr@fliprobo .com\n",
      "github .com\n",
      "Hello Data Science World\n",
      "Data Scientist\n"
     ]
    }
   ],
   "source": [
    "sample=[\"example (.com)\", \"hr@fliprobo (.com)\", \"github (.com)\", \"Hello (Data Science World)\", \"Data (Scientist)\"]\n",
    "result=remove_parenthesis(sample)\n"
   ]
  },
  {
   "cell_type": "markdown",
   "id": "30002828",
   "metadata": {},
   "source": [
    "OR/Another Method"
   ]
  },
  {
   "cell_type": "code",
   "execution_count": 66,
   "id": "54f068f0",
   "metadata": {},
   "outputs": [
    {
     "name": "stdout",
     "output_type": "stream",
     "text": [
      " Create a dataframe using the dictionary below and remove everything commas ,, !, XXXX, ;, etc. from the columns except words.\n"
     ]
    }
   ],
   "source": [
    "def remove_parenthesis(strings):\n",
    "    pattern=re.compile(r'\\(|\\)')\n",
    "    removed=pattern.sub('',strings)\n",
    "    return removed\n",
    "sample=\" Create a dataframe using the dictionary below and remove everything (commas (,), !, XXXX, ;, etc.) from the columns except words.\"\n",
    "result=remove_parenthesis(sample)\n",
    "print(result)"
   ]
  },
  {
   "cell_type": "markdown",
   "id": "060a122e",
   "metadata": {},
   "source": [
    "Write a python program to remove the parenthesis area from the text stored in the text file using Regular Expression."
   ]
  },
  {
   "cell_type": "code",
   "execution_count": 216,
   "id": "c905e75e",
   "metadata": {},
   "outputs": [
    {
     "name": "stdout",
     "output_type": "stream",
     "text": [
      "[\"example \", \"hr@fliprobo \", \"github \", \"Hello \", \"Data \"]\n"
     ]
    }
   ],
   "source": [
    "Sample_Text='[\"example (.com)\", \"hr@fliprobo (.com)\", \"github (.com)\", \"Hello (Data Science World)\", \"Data (Scientist)\"]'\n",
    "with open('Sample_Text.txt','w') as file:\n",
    "    file.write(Sample_Text)\n",
    "with open('Sample_Text.txt','r') as file:\n",
    "    text=file.read()\n",
    "pattern=r'\\([^)]+\\)'\n",
    "new_text=re.sub(pattern,'',text)\n",
    "with open('new_text.txt','w') as file:\n",
    "    file.write(new_text)\n",
    "print(new_text)\n",
    "    "
   ]
  },
  {
   "cell_type": "markdown",
   "id": "2a10205c",
   "metadata": {},
   "source": [
    "Write a regular expression in Python to split a string into uppercase letters."
   ]
  },
  {
   "cell_type": "code",
   "execution_count": 79,
   "id": "e3f233cd",
   "metadata": {},
   "outputs": [
    {
     "name": "stdout",
     "output_type": "stream",
     "text": [
      "['Importance', 'Of', 'Regular', 'Expressions', 'In', 'Python']\n"
     ]
    }
   ],
   "source": [
    "sample_text=\"ImportanceOfRegularExpressionsInPython\"\n",
    "pattern=r'[A-Z][a-z]*'\n",
    "split_string=re.findall(pattern, sample_text)\n",
    "print(split_string)"
   ]
  },
  {
   "cell_type": "markdown",
   "id": "42568599",
   "metadata": {},
   "source": [
    "Create a function in python to insert spaces between words starting with numbers."
   ]
  },
  {
   "cell_type": "code",
   "execution_count": 91,
   "id": "0b8af6a7",
   "metadata": {},
   "outputs": [
    {
     "name": "stdout",
     "output_type": "stream",
     "text": [
      "RegularExpression 1IsAn 2ImportantTopic 3InPython\n"
     ]
    }
   ],
   "source": [
    "sample_text=\"RegularExpression1IsAn2ImportantTopic3InPython\"\n",
    "pattern=r'(?=\\d)(?<=[A-Za-z])'\n",
    "new_text=re.sub(pattern, ' ',sample_text)\n",
    "print(new_text)"
   ]
  },
  {
   "cell_type": "markdown",
   "id": "a954269c",
   "metadata": {},
   "source": [
    "OR/Another method"
   ]
  },
  {
   "cell_type": "code",
   "execution_count": 92,
   "id": "34795870",
   "metadata": {},
   "outputs": [
    {
     "name": "stdout",
     "output_type": "stream",
     "text": [
      "RegularExpression 1IsAn 2ImportantTopic 3InPython\n"
     ]
    }
   ],
   "source": [
    "def insert_space(text):\n",
    "    pattern=r'(?=\\d)(?<=[A-Za-z])'\n",
    "    new_text=re.sub(pattern, ' ',sample_text)\n",
    "    return new_text\n",
    "sample_text=\"RegularExpression1IsAn2ImportantTopic3InPython\"\n",
    "result=insert_space(sample_text)\n",
    "print(result)"
   ]
  },
  {
   "cell_type": "markdown",
   "id": "31177eae",
   "metadata": {},
   "source": [
    "Create a function in python to insert spaces between words starting with capital letters or with numbers."
   ]
  },
  {
   "cell_type": "code",
   "execution_count": 93,
   "id": "0af3deeb",
   "metadata": {},
   "outputs": [
    {
     "name": "stdout",
     "output_type": "stream",
     "text": [
      "RegularExpression 1 IsAn 2 ImportantTopic 3 InPython\n"
     ]
    }
   ],
   "source": [
    "def insert_space(text):\n",
    "    pattern=r'(?<=\\D)(?=\\d)|(?<=\\d)(?=\\D)'\n",
    "    new_text=re.sub(pattern, ' ',sample_text)\n",
    "    return new_text\n",
    "sample_text=\"RegularExpression1IsAn2ImportantTopic3InPython\"\n",
    "result=insert_space(sample_text)\n",
    "print(result)"
   ]
  },
  {
   "cell_type": "markdown",
   "id": "d3d85ded",
   "metadata": {},
   "source": [
    "Use the github link below to read the data and create a dataframe. After creating the dataframe extract the first 6 letters of each country and store in the dataframe under a new column called first_five_letters.\n",
    "Github Link-  https://raw.githubusercontent.com/dsrscientist/DSData/master/happiness_score_dataset.csv"
   ]
  },
  {
   "cell_type": "code",
   "execution_count": 95,
   "id": "02ac5431",
   "metadata": {},
   "outputs": [
    {
     "name": "stdout",
     "output_type": "stream",
     "text": [
      "         Country                           Region  Happiness Rank  \\\n",
      "0    Switzerland                   Western Europe               1   \n",
      "1        Iceland                   Western Europe               2   \n",
      "2        Denmark                   Western Europe               3   \n",
      "3         Norway                   Western Europe               4   \n",
      "4         Canada                    North America               5   \n",
      "..           ...                              ...             ...   \n",
      "153       Rwanda               Sub-Saharan Africa             154   \n",
      "154        Benin               Sub-Saharan Africa             155   \n",
      "155        Syria  Middle East and Northern Africa             156   \n",
      "156      Burundi               Sub-Saharan Africa             157   \n",
      "157         Togo               Sub-Saharan Africa             158   \n",
      "\n",
      "     Happiness Score  Standard Error  Economy (GDP per Capita)   Family  \\\n",
      "0              7.587         0.03411                   1.39651  1.34951   \n",
      "1              7.561         0.04884                   1.30232  1.40223   \n",
      "2              7.527         0.03328                   1.32548  1.36058   \n",
      "3              7.522         0.03880                   1.45900  1.33095   \n",
      "4              7.427         0.03553                   1.32629  1.32261   \n",
      "..               ...             ...                       ...      ...   \n",
      "153            3.465         0.03464                   0.22208  0.77370   \n",
      "154            3.340         0.03656                   0.28665  0.35386   \n",
      "155            3.006         0.05015                   0.66320  0.47489   \n",
      "156            2.905         0.08658                   0.01530  0.41587   \n",
      "157            2.839         0.06727                   0.20868  0.13995   \n",
      "\n",
      "     Health (Life Expectancy)  Freedom  Trust (Government Corruption)  \\\n",
      "0                     0.94143  0.66557                        0.41978   \n",
      "1                     0.94784  0.62877                        0.14145   \n",
      "2                     0.87464  0.64938                        0.48357   \n",
      "3                     0.88521  0.66973                        0.36503   \n",
      "4                     0.90563  0.63297                        0.32957   \n",
      "..                        ...      ...                            ...   \n",
      "153                   0.42864  0.59201                        0.55191   \n",
      "154                   0.31910  0.48450                        0.08010   \n",
      "155                   0.72193  0.15684                        0.18906   \n",
      "156                   0.22396  0.11850                        0.10062   \n",
      "157                   0.28443  0.36453                        0.10731   \n",
      "\n",
      "     Generosity  Dystopia Residual first_five_letters  \n",
      "0       0.29678            2.51738             Switze  \n",
      "1       0.43630            2.70201             Icelan  \n",
      "2       0.34139            2.49204             Denmar  \n",
      "3       0.34699            2.46531             Norway  \n",
      "4       0.45811            2.45176             Canada  \n",
      "..          ...                ...                ...  \n",
      "153     0.22628            0.67042             Rwanda  \n",
      "154     0.18260            1.63328              Benin  \n",
      "155     0.47179            0.32858              Syria  \n",
      "156     0.19727            1.83302             Burund  \n",
      "157     0.16681            1.56726               Togo  \n",
      "\n",
      "[158 rows x 13 columns]\n"
     ]
    }
   ],
   "source": [
    "df=pd.read_csv(\" https://raw.githubusercontent.com/dsrscientist/DSData/master/happiness_score_dataset.csv\")\n",
    "df['first_five_letters']=df['Country'].str[:6]\n",
    "print(df)"
   ]
  },
  {
   "cell_type": "code",
   "execution_count": 99,
   "id": "a5fe3e1d",
   "metadata": {},
   "outputs": [
    {
     "name": "stdout",
     "output_type": "stream",
     "text": [
      "       Country          Region  Happiness Rank  Happiness Score  \\\n",
      "0  Switzerland  Western Europe               1            7.587   \n",
      "1      Iceland  Western Europe               2            7.561   \n",
      "2      Denmark  Western Europe               3            7.527   \n",
      "3       Norway  Western Europe               4            7.522   \n",
      "4       Canada   North America               5            7.427   \n",
      "\n",
      "   Standard Error  Economy (GDP per Capita)   Family  \\\n",
      "0         0.03411                   1.39651  1.34951   \n",
      "1         0.04884                   1.30232  1.40223   \n",
      "2         0.03328                   1.32548  1.36058   \n",
      "3         0.03880                   1.45900  1.33095   \n",
      "4         0.03553                   1.32629  1.32261   \n",
      "\n",
      "   Health (Life Expectancy)  Freedom  Trust (Government Corruption)  \\\n",
      "0                   0.94143  0.66557                        0.41978   \n",
      "1                   0.94784  0.62877                        0.14145   \n",
      "2                   0.87464  0.64938                        0.48357   \n",
      "3                   0.88521  0.66973                        0.36503   \n",
      "4                   0.90563  0.63297                        0.32957   \n",
      "\n",
      "   Generosity  Dystopia Residual first_five_letters  \n",
      "0     0.29678            2.51738             Switze  \n",
      "1     0.43630            2.70201             Icelan  \n",
      "2     0.34139            2.49204             Denmar  \n",
      "3     0.34699            2.46531             Norway  \n",
      "4     0.45811            2.45176             Canada  \n"
     ]
    }
   ],
   "source": [
    "print(df.head())"
   ]
  },
  {
   "cell_type": "markdown",
   "id": "088f63fa",
   "metadata": {},
   "source": [
    "Write a Python program to match a string that contains only upper and lowercase letters, numbers, and underscores."
   ]
  },
  {
   "cell_type": "code",
   "execution_count": 105,
   "id": "e29bda8b",
   "metadata": {},
   "outputs": [
    {
     "name": "stdout",
     "output_type": "stream",
     "text": [
      "True\n",
      "False\n"
     ]
    }
   ],
   "source": [
    "def string(text):\n",
    "    pattern=r'^[A-Za-z0-9_]+$'\n",
    "    if re.match(pattern,text):\n",
    "        return True\n",
    "    else:\n",
    "        return False\n",
    "sample=\"HahHaklr128gTG_H\"\n",
    "sample1=\"This@_isInvalid\"\n",
    "print(string(sample))\n",
    "print(string(sample1))"
   ]
  },
  {
   "cell_type": "markdown",
   "id": "5350a0bd",
   "metadata": {},
   "source": [
    "Write a Python program where a string will start with a specific number. "
   ]
  },
  {
   "cell_type": "code",
   "execution_count": 109,
   "id": "2005c10a",
   "metadata": {},
   "outputs": [
    {
     "name": "stdout",
     "output_type": "stream",
     "text": [
      "True\n",
      "False\n"
     ]
    }
   ],
   "source": [
    "def string(string,number):\n",
    "    pattern=r'^'+number\n",
    "    if re.match(pattern,string):\n",
    "        return True\n",
    "    else:\n",
    "        return False\n",
    "sample=\"123abc\"\n",
    "sample1=\"456ACS23\"\n",
    "number=\"123\"\n",
    "print(string(sample,number))\n",
    "print(string(sample1,number))"
   ]
  },
  {
   "cell_type": "markdown",
   "id": "714187a0",
   "metadata": {},
   "source": [
    "Write a Python program to remove leading zeros from an IP address."
   ]
  },
  {
   "cell_type": "code",
   "execution_count": 116,
   "id": "53876727",
   "metadata": {},
   "outputs": [
    {
     "name": "stdout",
     "output_type": "stream",
     "text": [
      "197.187.1.2\n"
     ]
    }
   ],
   "source": [
    "def remove_leading_zeros(ip_address):\n",
    "    x=ip_address.split('.')\n",
    "    for i in range(len(x)):\n",
    "        x[i]=str(int(x[i]))\n",
    "    improved_ip_address='.'.join(x)\n",
    "    return improved_ip_address\n",
    "ip_address=\"197.187.001.002\"\n",
    "result=remove_leading_zeros(ip_address)\n",
    "print(result)\n",
    "        \n",
    "    "
   ]
  },
  {
   "cell_type": "markdown",
   "id": "36ad836c",
   "metadata": {},
   "source": [
    "Write a regular expression in python to match a date string in the form of Month name followed by day number and year stored in a text file."
   ]
  },
  {
   "cell_type": "code",
   "execution_count": 215,
   "id": "55ca1d5c",
   "metadata": {},
   "outputs": [
    {
     "name": "stdout",
     "output_type": "stream",
     "text": [
      "August 15th 1947\n"
     ]
    }
   ],
   "source": [
    "pattern=r'\\b(January|Feburary|March|April|May|June|July|August|September|October|November|December)\\s+([0-9]{1,2}(st|nd|th|rd)?)\\s+(\\d{4}\\b)'\n",
    "sample_text='On August 15th 1947 that India was declared independent from British May 20th 1847 colonialism, and the reins of control were handed over to the leaders of the Country.'\n",
    "matches=re.search(pattern,sample_text)\n",
    "result=matches.group()\n",
    "print(result)\n"
   ]
  },
  {
   "cell_type": "markdown",
   "id": "8150ddab",
   "metadata": {},
   "source": [
    "OR/Another Method"
   ]
  },
  {
   "cell_type": "code",
   "execution_count": 217,
   "id": "114ae5c1",
   "metadata": {},
   "outputs": [
    {
     "name": "stdout",
     "output_type": "stream",
     "text": [
      "August 15th 1947\n"
     ]
    }
   ],
   "source": [
    "sample_text='On August 15th 1947 that India was declared independent from British May 20th 1847 colonialism, and the reins of control were handed over to the leaders of the Country.'\n",
    "with open('sample_text.txt','w')as file:\n",
    "    file.write(sample_text)\n",
    "with open ('sample_text.txt','r')as file:\n",
    "    text=file.read()\n",
    "pattern=r'\\b(January|Feburary|March|April|May|June|July|August|September|October|November|December)\\s+([0-9]{1,2}(st|nd|th|rd)?)\\s+(\\d{4}\\b)'\n",
    "result=re.search(pattern,text)\n",
    "new_text=result.group()\n",
    "with open('new_text.txt','w')as file:\n",
    "    file.write(new_text)\n",
    "print(new_text)\n"
   ]
  },
  {
   "cell_type": "markdown",
   "id": "614e6b35",
   "metadata": {},
   "source": [
    "Write a Python program to search some literals strings in a string. "
   ]
  },
  {
   "cell_type": "code",
   "execution_count": 219,
   "id": "54ed3b00",
   "metadata": {},
   "outputs": [
    {
     "name": "stdout",
     "output_type": "stream",
     "text": [
      "fox\n",
      "dog\n",
      "not found\n",
      "<function search_strings at 0x000001CD92B107C0>\n"
     ]
    }
   ],
   "source": [
    "def search_strings(text,search_literals_strings):\n",
    "    for string in search_literals_strings:\n",
    "        if string in text:\n",
    "            print(f'{string}')\n",
    "        else:\n",
    "            print(\"not found\")\n",
    "text='The quick brown fox jumps over the lazy dog.'\n",
    "search_literals_strings=['fox','dog','horse']\n",
    "search_strings(text,search_literals_strings)\n",
    "print(search_strings)"
   ]
  },
  {
   "cell_type": "markdown",
   "id": "e352f657",
   "metadata": {},
   "source": [
    "Write a Python program to search a literals string in a string and also find the location within the original string where the pattern occurs"
   ]
  },
  {
   "cell_type": "code",
   "execution_count": 104,
   "id": "40f3aae3",
   "metadata": {},
   "outputs": [
    {
     "name": "stdout",
     "output_type": "stream",
     "text": [
      "'fox'is found in text at index 16 \n",
      "<function search_strings at 0x000002768C681440>\n"
     ]
    }
   ],
   "source": [
    "import re\n",
    "def search_strings(text,pattern):\n",
    "    match=re.search(re.escape(pattern),text)\n",
    "    if match:\n",
    "        print(f\"'{pattern}'is found in text at index {match.start()} \")\n",
    "    else:\n",
    "        print(\"not found\")\n",
    "text='The quick brown fox jumps over the lazy dog.'\n",
    "pattern='fox'\n",
    "search_strings(text,pattern)\n",
    "print(search_strings)"
   ]
  },
  {
   "cell_type": "markdown",
   "id": "51a7e4b3",
   "metadata": {},
   "source": [
    "Write a Python program to find the substrings within a string."
   ]
  },
  {
   "cell_type": "code",
   "execution_count": 106,
   "id": "46eb8570",
   "metadata": {},
   "outputs": [
    {
     "name": "stdout",
     "output_type": "stream",
     "text": [
      "['exercises', 'exercises']\n"
     ]
    }
   ],
   "source": [
    "def find_substrings(text,substrings):\n",
    "    x=text.split(',')\n",
    "    foundStr = []\n",
    "    for i in range(len(x)):\n",
    "        if substrings in x[i]:\n",
    "            foundStr.append(substrings)\n",
    "        else:\n",
    "            pass\n",
    "    return foundStr\n",
    "text='Python exercises, PHP, C# exercises'\n",
    "substrings='exercises'\n",
    "z = find_substrings(text,substrings)\n",
    "print(z)"
   ]
  },
  {
   "cell_type": "markdown",
   "id": "19816c78",
   "metadata": {},
   "source": [
    "OR/Another Method"
   ]
  },
  {
   "cell_type": "code",
   "execution_count": 107,
   "id": "8065c3a5",
   "metadata": {},
   "outputs": [
    {
     "data": {
      "text/plain": [
       "['exercises', 'exercises', 'exercises']"
      ]
     },
     "execution_count": 107,
     "metadata": {},
     "output_type": "execute_result"
    }
   ],
   "source": [
    "def find_substrings(text,substrings):\n",
    "    foundStr = re.findall(substrings,text)\n",
    "    return foundStr\n",
    "text='Python exercises, PHP exercises, C# exercises'\n",
    "substrings='exercises'\n",
    "find_substrings(text,substrings)"
   ]
  },
  {
   "cell_type": "markdown",
   "id": "00d6836e",
   "metadata": {},
   "source": [
    "Write a Python program to find the occurrence and position of the substrings within a string."
   ]
  },
  {
   "cell_type": "code",
   "execution_count": 108,
   "id": "743a8cc1",
   "metadata": {},
   "outputs": [
    {
     "data": {
      "text/plain": [
       "[('exercises', 7), ('exercises', 22), ('exercises', 36)]"
      ]
     },
     "execution_count": 108,
     "metadata": {},
     "output_type": "execute_result"
    }
   ],
   "source": [
    "def find_substring_occurrences(text,substring):\n",
    "    occurrence = []\n",
    "    position = 0\n",
    "    for x in text:\n",
    "        index = text.find(substring,position)\n",
    "        if index == -1:\n",
    "            break\n",
    "        else:\n",
    "            occurrence.append((substring,index))\n",
    "            position = index+1\n",
    "    return occurrence\n",
    "\n",
    "text='Python exercises, PHP exercises, C# exercises'\n",
    "substrings='exercises'\n",
    "find_substring_occurrences(text,substrings)"
   ]
  },
  {
   "cell_type": "markdown",
   "id": "98c7dc56",
   "metadata": {},
   "source": [
    " Write a Python program to convert a date of yyyy-mm-dd format to dd-mm-yyyy format."
   ]
  },
  {
   "cell_type": "code",
   "execution_count": 110,
   "id": "c5de1304",
   "metadata": {},
   "outputs": [
    {
     "name": "stdout",
     "output_type": "stream",
     "text": [
      "01-04-2024\n"
     ]
    }
   ],
   "source": [
    "from datetime import datetime\n",
    "\n",
    "\n",
    "def convert_date_format(date):\n",
    "    current_format=datetime.strptime(date,\"%Y-%m-%d\")\n",
    "    new_format=current_format.strftime(\"%d-%m-%Y\")\n",
    "    return new_format\n",
    "date='2024-04-01'\n",
    "d=convert_date_format(date)\n",
    "print(d)"
   ]
  },
  {
   "cell_type": "markdown",
   "id": "65a4e421",
   "metadata": {},
   "source": [
    "Create a function in python to find all decimal numbers with a precision of 1 or 2 in a string. The use of the re.compile() method is mandatory."
   ]
  },
  {
   "cell_type": "code",
   "execution_count": 111,
   "id": "9c14d98b",
   "metadata": {},
   "outputs": [
    {
     "data": {
      "text/plain": [
       "['01.12', '145.8', '3.01', '27.25', '0.25']"
      ]
     },
     "execution_count": 111,
     "metadata": {},
     "output_type": "execute_result"
    }
   ],
   "source": [
    "def find_decimal_numbers(string):\n",
    "    pattern=re.compile(r'\\b\\d+\\.\\d{1,2}\\b')\n",
    "    match=pattern.findall(string)\n",
    "    return match\n",
    "string=\"01.12 0132.123 2.31875 145.8 3.01 27.25 0.25\"\n",
    "find_decimal_numbers(string)\n"
   ]
  },
  {
   "cell_type": "markdown",
   "id": "3032ca88",
   "metadata": {},
   "source": [
    "Write a Python program to separate and print the numbers and their position of a given string."
   ]
  },
  {
   "cell_type": "code",
   "execution_count": 112,
   "id": "25a9370a",
   "metadata": {},
   "outputs": [
    {
     "data": {
      "text/plain": [
       "[('10', 10), ('30', 25)]"
      ]
     },
     "execution_count": 112,
     "metadata": {},
     "output_type": "execute_result"
    }
   ],
   "source": [
    "import re\n",
    "\n",
    "def number_and_position(string):\n",
    "    num_position=[]\n",
    "    pattern=re.compile(r'\\b\\d+\\b')\n",
    "    matches=pattern.finditer(string)\n",
    "    for match in matches:\n",
    "        number=match.group()\n",
    "        position=match.start()\n",
    "        num_position.append((number,position))\n",
    "     \n",
    "    return num_position\n",
    "string=\"There are 10 oranges and 30 bananas in the basket\"\n",
    "number_and_position(string)"
   ]
  },
  {
   "cell_type": "markdown",
   "id": "a396d721",
   "metadata": {},
   "source": [
    "Write a regular expression in python program to extract maximum/largest numeric value from a string."
   ]
  },
  {
   "cell_type": "code",
   "execution_count": 113,
   "id": "d37fbc13",
   "metadata": {},
   "outputs": [
    {
     "data": {
      "text/plain": [
       "950"
      ]
     },
     "execution_count": 113,
     "metadata": {},
     "output_type": "execute_result"
    }
   ],
   "source": [
    "def extract_max_num(string):\n",
    "    pattern=re.compile(r'\\b\\d+\\b')\n",
    "    matches=pattern.findall(string)\n",
    "    if matches:\n",
    "        numeric_value=[int(match)for match in matches]\n",
    "        return max(numeric_value)\n",
    "    else:\n",
    "        return None\n",
    "\n",
    "string='My marks in each semester are: 947, 896, 926, 524, 734, 950, 642'\n",
    "extract_max_num(string)"
   ]
  },
  {
   "cell_type": "markdown",
   "id": "44eb2714",
   "metadata": {},
   "source": [
    " Create a function in python to insert spaces between words starting with capital letters."
   ]
  },
  {
   "cell_type": "code",
   "execution_count": 114,
   "id": "18517815",
   "metadata": {},
   "outputs": [
    {
     "data": {
      "text/plain": [
       "'Regular Expression Is An Important Topic In Python'"
      ]
     },
     "execution_count": 114,
     "metadata": {},
     "output_type": "execute_result"
    }
   ],
   "source": [
    "def insert_spaces(text):\n",
    "    modified_text = re.sub(r'(?<=[a-z])(?=[A-Z])',r' ',text)\n",
    "    return modified_text\n",
    "\n",
    "text = 'RegularExpressionIsAnImportantTopicInPython'\n",
    "insert_spaces(text)"
   ]
  },
  {
   "cell_type": "markdown",
   "id": "f9be3da6",
   "metadata": {},
   "source": [
    "Python regex to find sequences of one upper case letter followed by lower case letters"
   ]
  },
  {
   "cell_type": "code",
   "execution_count": 115,
   "id": "f8bf9b61",
   "metadata": {},
   "outputs": [
    {
     "name": "stdout",
     "output_type": "stream",
     "text": [
      "['Regular', 'Expression', 'Is', 'An', 'Important', 'Topic', 'In', 'Python']\n"
     ]
    }
   ],
   "source": [
    "text ='RegularExpressionIsAnImportantTopicInPython'\n",
    "pattern=r'[A-Z][a-z]+'\n",
    "matches=re.findall(pattern,text)\n",
    "print(matches)"
   ]
  },
  {
   "cell_type": "markdown",
   "id": "f9ecba0d",
   "metadata": {},
   "source": [
    "Write a Python program to remove continuous duplicate words from Sentence using Regular Expression."
   ]
  },
  {
   "cell_type": "code",
   "execution_count": 117,
   "id": "0de8641c",
   "metadata": {},
   "outputs": [
    {
     "data": {
      "text/plain": [
       "'Hello hello world'"
      ]
     },
     "execution_count": 117,
     "metadata": {},
     "output_type": "execute_result"
    }
   ],
   "source": [
    "def remove_con_duplicate(sentence):\n",
    "    pattern=r'\\b(\\w+)(?:\\W+\\1\\b)+'\n",
    "    modified=re.sub(pattern,r'\\1',sentence)\n",
    "    return modified\n",
    "\n",
    "sentence=\"Hello hello world world\"\n",
    "remove_con_duplicate(sentence)"
   ]
  },
  {
   "cell_type": "markdown",
   "id": "1babba71",
   "metadata": {},
   "source": [
    "Write a python program using RegEx to accept string ending with alphanumeric character."
   ]
  },
  {
   "cell_type": "code",
   "execution_count": 124,
   "id": "1f293c22",
   "metadata": {},
   "outputs": [
    {
     "name": "stdout",
     "output_type": "stream",
     "text": [
      "False\n",
      "False\n",
      "True\n",
      "True\n"
     ]
    }
   ],
   "source": [
    "def ends_with_alphanumeric(string):\n",
    "    pattern=r'[A-Za-z0-9]$'\n",
    "    matches=re.findall(pattern,string)\n",
    "    if matches:\n",
    "        return True\n",
    "    else:\n",
    "        return False\n",
    "\n",
    "string1 = \"Hello123_\"\n",
    "string2 = \"abc!\"\n",
    "string3 = \"12345\"\n",
    "string4 = \"Testing Testing 123\"\n",
    "print(ends_with_alphanumeric(string1))\n",
    "print(ends_with_alphanumeric(string2))\n",
    "print(ends_with_alphanumeric(string3))\n",
    "print(ends_with_alphanumeric(string4))"
   ]
  },
  {
   "cell_type": "markdown",
   "id": "b23fa8ee",
   "metadata": {},
   "source": [
    "Write a python program using RegEx to extract the hashtags."
   ]
  },
  {
   "cell_type": "code",
   "execution_count": 125,
   "id": "d355afd6",
   "metadata": {},
   "outputs": [
    {
     "data": {
      "text/plain": [
       "['#Doltiwal', '#xyzabc', '#Demonetization']"
      ]
     },
     "execution_count": 125,
     "metadata": {},
     "output_type": "execute_result"
    }
   ],
   "source": [
    "def return_hashtags(text):\n",
    "    pattern=r'#\\w+'\n",
    "    hashtags=re.findall(pattern,text)\n",
    "    return hashtags\n",
    "\n",
    "text=\"\"\"RT @kapil_kausik: #Doltiwal I mean #xyzabc is \"hurt\" by #Demonetization as the same has rendered USELESS <ed><U+00A0><U+00BD><ed><U+00B1><U+0089> \"acquired funds\" No wo\"\"\"\n",
    "return_hashtags(text)"
   ]
  },
  {
   "cell_type": "markdown",
   "id": "598e674b",
   "metadata": {},
   "source": [
    "Write a python program using RegEx to remove <U+..> like symbols\n",
    "Check the below sample text, there are strange symbols something of the sort <U+..> all over the place. You need to come up with a general Regex expression that will cover all such symbols.\n"
   ]
  },
  {
   "cell_type": "code",
   "execution_count": 127,
   "id": "c9e6e3ef",
   "metadata": {},
   "outputs": [
    {
     "data": {
      "text/plain": [
       "'@Jags123456 Bharat band on 28??<ed><ed>Those who  are protesting #demonetization  are all different party leaders'"
      ]
     },
     "execution_count": 127,
     "metadata": {},
     "output_type": "execute_result"
    }
   ],
   "source": [
    "def remove_symbols(text):\n",
    "    pattern=r'<U\\+[0-9A-F]+>'\n",
    "    cleaned_text=re.sub(pattern,'',text)\n",
    "    return cleaned_text\n",
    "\n",
    "text=\"@Jags123456 Bharat band on 28??<ed><U+00A0><U+00BD><ed><U+00B8><U+0082>Those who  are protesting #demonetization  are all different party leaders\"\n",
    "remove_symbols(text)"
   ]
  },
  {
   "cell_type": "markdown",
   "id": "02160987",
   "metadata": {},
   "source": [
    "Write a python program to extract dates from the text stored in the text file."
   ]
  },
  {
   "cell_type": "code",
   "execution_count": 130,
   "id": "b4f6f684",
   "metadata": {},
   "outputs": [
    {
     "name": "stdout",
     "output_type": "stream",
     "text": [
      "['12-09-1992', '15-12-1999']\n"
     ]
    }
   ],
   "source": [
    "sample_Text='Ron was born on 12-09-1992 and he was admitted to school 15-12-1999.'\n",
    "with open('sample_Text.txt','w')as file:\n",
    "    file.write(sample_Text)\n",
    "with open ('sample_Text.txt','r')as file:\n",
    "    text=file.read()\n",
    "pattern=r'\\b\\d{2}-\\d{2}-\\d{4}\\b'\n",
    "result=re.findall(pattern,text)\n",
    "print(result)"
   ]
  },
  {
   "cell_type": "markdown",
   "id": "650669bb",
   "metadata": {},
   "source": [
    "Create a function in python to remove all words from a string of length between 2 and 4."
   ]
  },
  {
   "cell_type": "code",
   "execution_count": 134,
   "id": "a37a645e",
   "metadata": {},
   "outputs": [
    {
     "data": {
      "text/plain": [
       "'following example creates ArrayList a capacity elements. 4 elements added ArrayList ArrayList trimmed accordingly.'"
      ]
     },
     "execution_count": 134,
     "metadata": {},
     "output_type": "execute_result"
    }
   ],
   "source": [
    "def remove_words_between_length_2_and_4(text):\n",
    "    pattern=re.compile(r'\\b\\w{2,4}\\s*\\b')\n",
    "    cleaned_text=pattern.sub('',text)\n",
    "    return cleaned_text\n",
    "\n",
    "text=\"The following example creates an ArrayList with a capacity of 50 elements. 4 elements are then added to the ArrayList and the ArrayList is trimmed accordingly.\"\n",
    "remove_words_between_length_2_and_4(text)"
   ]
  },
  {
   "cell_type": "code",
   "execution_count": null,
   "id": "dc4e05ad",
   "metadata": {},
   "outputs": [],
   "source": []
  }
 ],
 "metadata": {
  "kernelspec": {
   "display_name": "Python 3 (ipykernel)",
   "language": "python",
   "name": "python3"
  },
  "language_info": {
   "codemirror_mode": {
    "name": "ipython",
    "version": 3
   },
   "file_extension": ".py",
   "mimetype": "text/x-python",
   "name": "python",
   "nbconvert_exporter": "python",
   "pygments_lexer": "ipython3",
   "version": "3.11.4"
  }
 },
 "nbformat": 4,
 "nbformat_minor": 5
}
