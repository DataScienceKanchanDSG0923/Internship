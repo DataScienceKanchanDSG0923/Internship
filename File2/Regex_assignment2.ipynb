{
 "cells": [
  {
   "cell_type": "markdown",
   "id": "82462f82",
   "metadata": {},
   "source": [
    "Write a RegEx pattern in python program to check that a string contains only a certain set of characters (in this case a-z, A-Z and 0-9).\n"
   ]
  },
  {
   "cell_type": "code",
   "execution_count": 1,
   "id": "037418e6",
   "metadata": {},
   "outputs": [
    {
     "name": "stdout",
     "output_type": "stream",
     "text": [
      "<re.Match object; span=(0, 6), match='abc123'>\n"
     ]
    }
   ],
   "source": [
    "import re\n",
    "text=\"abc123\"\n",
    "pattern=r'^[a-zA-Z0-9]+$'\n",
    "result=re.match(pattern,text)\n",
    "print(result)"
   ]
  },
  {
   "cell_type": "markdown",
   "id": "0c0dee8b",
   "metadata": {},
   "source": [
    " Write a RegEx pattern that matches a string that has an a followed by zero or more b's"
   ]
  },
  {
   "cell_type": "code",
   "execution_count": 3,
   "id": "61f067af",
   "metadata": {},
   "outputs": [
    {
     "name": "stdout",
     "output_type": "stream",
     "text": [
      "enter a stringabbb\n",
      "<re.Match object; span=(0, 4), match='abbb'>\n"
     ]
    }
   ],
   "source": [
    "text1=input(\"enter a string\")\n",
    "pattern=r'ab*'\n",
    "result=re.match(pattern,text1)\n",
    "print(result)"
   ]
  },
  {
   "cell_type": "code",
   "execution_count": 4,
   "id": "f13302a7",
   "metadata": {},
   "outputs": [
    {
     "name": "stdout",
     "output_type": "stream",
     "text": [
      "enter a stringabb\n",
      "matches a string that has an a followed by zero or more b's\n"
     ]
    }
   ],
   "source": [
    "text1=input(\"enter a string \")\n",
    "pattern=r'ab*'\n",
    "if re.match(pattern,text1):\n",
    "    print(\"matches a string that has an a followed by zero or more b's\")\n",
    "else:\n",
    "    print(\"the string does not match tha pattern\")\n"
   ]
  },
  {
   "cell_type": "markdown",
   "id": "c5ac0d6a",
   "metadata": {},
   "source": [
    "Write a RegEx pattern that matches a string that has an a followed by one or more b's"
   ]
  },
  {
   "cell_type": "code",
   "execution_count": 6,
   "id": "8d4035d9",
   "metadata": {},
   "outputs": [
    {
     "name": "stdout",
     "output_type": "stream",
     "text": [
      "enter a string ab\n",
      "matches a string that has an a followed by one or more b's\n"
     ]
    }
   ],
   "source": [
    "text2=input(\"enter a string \")\n",
    "pattern=r'ab+'\n",
    "if re.match(pattern,text2):\n",
    "    print(\"matches a string that has an a followed by one or more b's\")\n",
    "else:\n",
    "    print(\"the string does not match tha pattern\")    "
   ]
  },
  {
   "cell_type": "markdown",
   "id": "f2289476",
   "metadata": {},
   "source": [
    " Write a RegEx pattern that matches a string that has an a followed by zero or one 'b'."
   ]
  },
  {
   "cell_type": "code",
   "execution_count": 9,
   "id": "6c112a90",
   "metadata": {},
   "outputs": [
    {
     "name": "stdout",
     "output_type": "stream",
     "text": [
      "enter a string ab\n",
      "matches a string that has an a followed by zero or one b's\n"
     ]
    }
   ],
   "source": [
    "text3=input(\"enter a string \")\n",
    "pattern=r'ab?'\n",
    "if re.match(pattern,text3):\n",
    "    print(\"matches a string that has an a followed by zero or one b's\")\n",
    "else:\n",
    "    print(\"the string does not match tha pattern\")"
   ]
  },
  {
   "cell_type": "markdown",
   "id": "294d44cc",
   "metadata": {},
   "source": [
    "Write a RegEx pattern in python program that matches a string that has an a followed by three 'b'"
   ]
  },
  {
   "cell_type": "code",
   "execution_count": 11,
   "id": "7b1f7cf7",
   "metadata": {},
   "outputs": [
    {
     "name": "stdout",
     "output_type": "stream",
     "text": [
      "enter a stringabbb\n",
      "matches a string that has an a followed by three b's\n"
     ]
    }
   ],
   "source": [
    "text4=input(\"enter a string\")\n",
    "pattern=r'ab{3}'\n",
    "if re.match(pattern,text4):\n",
    "    print(\"matches a string that has an a followed by three b's\")\n",
    "else:\n",
    "    print(\"the string does not match tha pattern\")\n"
   ]
  },
  {
   "cell_type": "markdown",
   "id": "ddcd2cb9",
   "metadata": {},
   "source": [
    " Write a RegEx pattern in python program that matches a string that has an a followed by two to three 'b'"
   ]
  },
  {
   "cell_type": "code",
   "execution_count": 15,
   "id": "fe8b0ab7",
   "metadata": {},
   "outputs": [
    {
     "name": "stdout",
     "output_type": "stream",
     "text": [
      "enter a stringabb\n",
      "matches a string that has an a followed by two to three b's\n"
     ]
    }
   ],
   "source": [
    "text5=input(\"enter a string\")\n",
    "pattern=r'ab{2,3}'\n",
    "if re.match(pattern,text5):\n",
    "    print(\"matches a string that has an a followed by two to three b's\")\n",
    "else:\n",
    "    print(\"the string does not match tha pattern\")"
   ]
  },
  {
   "cell_type": "markdown",
   "id": "192f28a7",
   "metadata": {},
   "source": [
    "Write a Python program that matches a string that has an 'a' followed by anything, ending in 'b'."
   ]
  },
  {
   "cell_type": "code",
   "execution_count": 29,
   "id": "50fd8bfc",
   "metadata": {},
   "outputs": [
    {
     "name": "stdout",
     "output_type": "stream",
     "text": [
      "enter a string a string without any b\\na string with a b at the end\n",
      "the string does not match tha pattern\n"
     ]
    }
   ],
   "source": [
    "text6=input(\"enter a string \")\n",
    "pattern=r'a.*b$'\n",
    "if re.match(pattern,text6):\n",
    "    print(\"matches a string that has an 'a' followed by anything, ending in 'b'\")\n",
    "else:\n",
    "    print(\"the string does not match tha pattern\")"
   ]
  },
  {
   "cell_type": "code",
   "execution_count": 34,
   "id": "edb2cb10",
   "metadata": {},
   "outputs": [
    {
     "name": "stdout",
     "output_type": "stream",
     "text": [
      "the string does not match tha pattern\n"
     ]
    }
   ],
   "source": [
    "text6=\"a string without any \\n string with a b at the end b\"\n",
    "pattern=r'a.*b$'\n",
    "if re.match(pattern,text6):\n",
    "    print(\"matches a string that has an 'a' followed by anything, ending in 'b'\")\n",
    "else:\n",
    "    print(\"the string does not match tha pattern\")"
   ]
  },
  {
   "cell_type": "markdown",
   "id": "ba53708e",
   "metadata": {},
   "source": [
    "Write a RegEx pattern in python program that matches a word at the beginning of a string."
   ]
  },
  {
   "cell_type": "code",
   "execution_count": 38,
   "id": "ea883ac3",
   "metadata": {},
   "outputs": [
    {
     "name": "stdout",
     "output_type": "stream",
     "text": [
      "matches a word at the beginning of a string\n"
     ]
    }
   ],
   "source": [
    "text7=\"string without any \\n string with a b at the end b\"\n",
    "pattern=r'^\\w+'\n",
    "if re.match(pattern,text7):\n",
    "    print(\"matches a word at the beginning of a string\")\n",
    "else:\n",
    "    print(\"the string does not match tha pattern\")"
   ]
  },
  {
   "cell_type": "code",
   "execution_count": 39,
   "id": "06cbef7b",
   "metadata": {},
   "outputs": [
    {
     "name": "stdout",
     "output_type": "stream",
     "text": [
      "the string does not match tha pattern\n"
     ]
    }
   ],
   "source": [
    "text7=\"@#$%^&* string without any \\n string with a b at the end b\"\n",
    "pattern=r'^\\w+'\n",
    "if re.match(pattern,text7):\n",
    "    print(\"matches a word at the beginning of a string\")\n",
    "else:\n",
    "    print(\"the string does not match tha pattern\")"
   ]
  },
  {
   "cell_type": "markdown",
   "id": "622e6bc3",
   "metadata": {},
   "source": [
    "Write a RegEx pattern in python program that matches a word at the end of a string."
   ]
  },
  {
   "cell_type": "code",
   "execution_count": 50,
   "id": "b89530a1",
   "metadata": {},
   "outputs": [
    {
     "name": "stdout",
     "output_type": "stream",
     "text": [
      "matches a word at the end of a string\n"
     ]
    }
   ],
   "source": [
    "text8=\"string without any \\n string with a b at the end\"\n",
    "pattern=r'\\b\\w+\\b$'\n",
    "if re.search(pattern,text8):\n",
    "    print(\"matches a word at the end of a string\")\n",
    "else:\n",
    "    print(\"the string does not match tha pattern\")"
   ]
  },
  {
   "cell_type": "markdown",
   "id": "8c8fec12",
   "metadata": {},
   "source": [
    "Write a RegEx pattern in python program to find all words that are 4 digits long in a string.\n",
    "Sample text- '01 0132 231875 1458 301 2725.'\n",
    "Expected output- ['0132', '1458', '2725']\n"
   ]
  },
  {
   "cell_type": "code",
   "execution_count": 54,
   "id": "946fdaf7",
   "metadata": {},
   "outputs": [
    {
     "name": "stdout",
     "output_type": "stream",
     "text": [
      "['0132', '1458', '2725']\n"
     ]
    }
   ],
   "source": [
    "Sample_text='01 0132 231875 1458 301 2725.'\n",
    "pattern=r'\\b\\d{4}\\b'\n",
    "result=re.findall(pattern,Sample_text)\n",
    "print(result)"
   ]
  },
  {
   "cell_type": "code",
   "execution_count": null,
   "id": "5c52f291",
   "metadata": {},
   "outputs": [],
   "source": []
  }
 ],
 "metadata": {
  "kernelspec": {
   "display_name": "Python 3 (ipykernel)",
   "language": "python",
   "name": "python3"
  },
  "language_info": {
   "codemirror_mode": {
    "name": "ipython",
    "version": 3
   },
   "file_extension": ".py",
   "mimetype": "text/x-python",
   "name": "python",
   "nbconvert_exporter": "python",
   "pygments_lexer": "ipython3",
   "version": "3.11.4"
  }
 },
 "nbformat": 4,
 "nbformat_minor": 5
}
